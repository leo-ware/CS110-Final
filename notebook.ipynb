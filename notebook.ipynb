{
 "cells": [
  {
   "cell_type": "markdown",
   "metadata": {},
   "source": [
    "# CS110 Final Project\n",
    "\n",
    "Leo Ware  \n",
    "December 18, 2020"
   ]
  },
  {
   "cell_type": "markdown",
   "metadata": {},
   "source": [
    "Project created and designed in collaboration with Andre Vacha. Much of the theoretical work was done together. The code in this document is mine."
   ]
  },
  {
   "cell_type": "markdown",
   "metadata": {},
   "source": [
    "### Background\n",
    "An old problem in statistics is how to estimate the causal effect of a treatment in an observational dataset. In an experimental dataset, where treatment is assigned randomly to units, this is trivially easy. Because treatment is randomly assigned, the researcher can assume that the treatment and control groups are drawn from the same distribution. So, they can simply compare the average outcomes for each group---or apply any other model---without having to correct for differences between groups.\n",
    "\n",
    "However, in observational data, researchers cannot assume that treatment and control groups are drawn from the same distribution. Worse, assignment to treatment or control will often correlate with the unit's predisposition to certain outcomes or to the treatment. If you have heart disease, then you will be more likely to get treated for it and you will try harder to get treated for it than someone who does not.\n",
    "\n",
    "Matching is a nonparametric method for estimating the causal effect of treatment in observational datasets. It works by going through the treatment units and comparing them to the controls on potential confounders---other variables about which the research possess information. Then, it matches each treatment to the control that most closely matches it on these confounders. Under the assumption that every potential confounder is observed, these matched pairs can then be directly compared to get an estimate of the causal effect of treatment."
   ]
  },
  {
   "cell_type": "markdown",
   "metadata": {},
   "source": [
    "**#sampling** I provide an implementation of the matching algorithm, which identifies biases in the sampling of an observational dataset and systematically resamples it to create a new dataset which can be used for causal analysis. This demonstrates deep understanding of the ideas behind sampling: bias mitigation, confounders, and randomness."
   ]
  },
  {
   "cell_type": "markdown",
   "metadata": {},
   "source": [
    "### Matching as a computational problem\n",
    "The problem of matching each treatment to the nearest control can be modeled as a form of nearest neighbor search. For each treatment unit, the search algorithm must search among potential controls to find the nearest comparison, where distance is the euclidean distance between feature vectors representing the two units.\n",
    "\n",
    "The naive solution to the problem---brute force search---involves iterating over every combination of treatment and control, measuring the distance, and then selecting the nearest control to each treatment. My implementation of this algorithm follows.\n"
   ]
  },
  {
   "cell_type": "code",
   "execution_count": 1,
   "metadata": {},
   "outputs": [],
   "source": [
    "class Unit:\n",
    "    \"\"\"Class to represent units in the dataset\"\"\"\n",
    "    def __init__(self, id, values):\n",
    "        self.id = id\n",
    "        self.values = values\n",
    "    \n",
    "    def __repr__(self):\n",
    "        return f\"Unit(id={self.id}, values={self.values})\"\n",
    "    \n",
    "    def __eq__(self, unit):\n",
    "        \"\"\"Magic method to test unit equivalence--makes '==' work between units\"\"\"\n",
    "        try:\n",
    "            return self.values == unit.values\n",
    "        except AttributeError:\n",
    "            return False\n",
    "\n",
    "# tests\n",
    "foo = Unit(id=0, values=[0])\n",
    "bar = Unit(id=1, values=[1])\n",
    "assert foo.id == 0\n",
    "assert foo.values[0] == 0\n",
    "assert foo != bar\n",
    "assert foo == foo"
   ]
  },
  {
   "cell_type": "markdown",
   "metadata": {},
   "source": [
    "*The above is a class to represent units in the dataset. These would probably correspond to rows in a table---the individuals to whom treatment is applied or not applied. I used a class here because I wanted to associate data with an id for each, and I thought accessing these via attributes would be less error prone that, say, sorting them in tuples and using indeces.*"
   ]
  },
  {
   "cell_type": "markdown",
   "metadata": {},
   "source": [
    "**#professionalism** Throughout this assignment, I follow pep8 with regard to capitaliztion and spacing conventions. I provide helpful and concise docstrings for almost every function and method following the official Google docstring format."
   ]
  },
  {
   "cell_type": "code",
   "execution_count": 2,
   "metadata": {},
   "outputs": [],
   "source": [
    "def distance(unit1: Unit, unit2: Unit) -> int:\n",
    "    \"\"\"Euclidean distance between two nodes\"\"\"\n",
    "    return sum((i - j)**2 for i, j in zip(unit1.values, unit2.values))**0.5\n",
    "\n",
    "# tests\n",
    "foo = Unit(id=0, values=[0])\n",
    "bar = Unit(id=1, values=[1])\n",
    "assert distance(foo, foo) == 0\n",
    "assert distance(foo, bar) == 1"
   ]
  },
  {
   "cell_type": "markdown",
   "metadata": {},
   "source": [
    "*The above calculates the distance between two Units. It is a useful helpful function that will recurr throughout the code.*"
   ]
  },
  {
   "cell_type": "code",
   "execution_count": 3,
   "metadata": {},
   "outputs": [],
   "source": [
    "def matching_brute_force(treatments, controls) -> dict:\n",
    "    \"\"\"Brute force solution to the matching problem\n",
    "    \n",
    "    Args:\n",
    "        treatments: a list of Unit s, the member of the treatment group\n",
    "        controls: a list of Unit s, the member of the control group\n",
    "    \n",
    "    Returns:\n",
    "        a dictionary mapping treatment ids to control ids\n",
    "    \"\"\"\n",
    "    matches = {}\n",
    "    \n",
    "    for treat in treatments:\n",
    "        \n",
    "        # sentinel values track the best found match\n",
    "        best_match = None\n",
    "        best_match_distance = float('inf') # because no match is the worst possible outcome\n",
    "        \n",
    "        # we have to check each control individually\n",
    "        for control in controls:\n",
    "            dist = distance(control, treat)\n",
    "            \n",
    "            # if it's the best yet, remember it\n",
    "            if dist < best_match_distance:\n",
    "                best_match_distance = dist\n",
    "                best_match = control\n",
    "        \n",
    "        matches[treat.id] = best_match.id\n",
    "        \n",
    "    return matches\n",
    "\n",
    "# tests\n",
    "controls = [Unit(id=i, values=[i]) for i in [1, 2, 3]]\n",
    "treats = [Unit(id=i, values=[j]) for i, j in zip([4, 5, 6], [-1, 2.1, 3])]\n",
    "assert matching_brute_force(treats, controls) == {4: 1, 5: 2, 6: 3}"
   ]
  },
  {
   "cell_type": "markdown",
   "metadata": {},
   "source": [
    "*This is the brute force implementation of matching. It works--as described above--by iterating over each treatment, and iterating over each control to find the best match for each.*"
   ]
  },
  {
   "cell_type": "markdown",
   "metadata": {},
   "source": [
    "The compute time of measuring distance is $\\Theta(d)$ in the number of features. Because of the nested for-loop, we can see that the whole algorithm will require compute time proportional to $\\Theta(dtc)$ where d is the number of features, t is the number of treatment units, and c is the number of control units. We can assume that, for most real-world datasets, the ratio between the number of treatment and control units is bounded by some constant. So, this formula becomes $\\Theta(dn^2)$ where n is the total number of units in the study.\n",
    "\n",
    "Note that this is the Big-Theta of compute-time. Since there is no early stopping, this algorithm will always require at least $\\Theta(dn^2)$ time, even if it finds the best match on the first comparison. We will see that, although the worst case bound is difficult to improve upon, it is possible to make the algorithm significantly faster in practice by cutting away at the best-case."
   ]
  },
  {
   "cell_type": "markdown",
   "metadata": {},
   "source": [
    "### The KD-Tree algorithm\n",
    "My solution to the search problem was to use a data structure called the KD-Tree. It belongs to a class of algorithms called *metric trees*, which are search trees which try to respect the underlying spatial structure of the data to make multivariate search easier. The KD-Tree works by envisioning each study unit as a no more or less than the vectorization of its features---a point in the space of all possible units. Then, it constructs a binary search tree where each branch is a partition of the space of features into two parts."
   ]
  },
  {
   "cell_type": "code",
   "execution_count": 4,
   "metadata": {},
   "outputs": [],
   "source": [
    "# I have some functions set to type check inputs when this is True. This makes it easier to catch some bugs.\n",
    "ENFORCE_TYPES = False"
   ]
  },
  {
   "cell_type": "code",
   "execution_count": 9,
   "metadata": {},
   "outputs": [],
   "source": [
    "class Node(Unit):\n",
    "    \"\"\"A class to represent nodes in the KD-Tree\"\"\"\n",
    "    \n",
    "    def __init__(self, id, values, axis=None):\n",
    "        super().__init__(id, values)\n",
    "        self.parent = None\n",
    "        self.right = None\n",
    "        self.left = None\n",
    "        self.axis = axis\n",
    "    \n",
    "    def __repr__(self):\n",
    "        return f\"Node(id={self.id}, values={self.values}, axis={self.axis})\"\n",
    "    \n",
    "    def dist_to_boundary(self, node: \"Node\") -> float:\n",
    "        \"\"\"The signed distance from node to the decision boundary defined by self\"\"\"\n",
    "        return float(self.values[self.axis] - node.values[self.axis])\n",
    "    \n",
    "    def decision(self, node: \"Node\") -> bool:\n",
    "        \"\"\"Whether to place a node in the left subtree\"\"\"\n",
    "        return self.dist_to_boundary(node) <= 0\n",
    "    \n",
    "    def opposite(self, node: \"Node\") -> \"Node\":\n",
    "        \"\"\"Returns self.right for self.left and vice versa\"\"\"\n",
    "        if node == self.left:\n",
    "            return self.right\n",
    "        else:\n",
    "            return self.left\n",
    "    \n",
    "    def get_tree(self, prefix: str = \"\") -> None:\n",
    "        \"\"\"Print representation of the subtree based at self\"\"\"\n",
    "        print(prefix + self.__repr__())\n",
    "        if self.left:\n",
    "            self.left.get_tree(prefix + '\\t')\n",
    "        if self.right:\n",
    "            self.right.get_tree(prefix + '\\t')\n",
    "\n",
    "# tests\n",
    "foo = Node(id=0, values=[0], axis=0)\n",
    "bar = Node(id=1, values=[1])\n",
    "foo.left = bar\n",
    "\n",
    "assert foo.dist_to_boundary(bar) == -1\n",
    "assert foo.decision(bar)\n",
    "assert not foo == bar\n",
    "assert foo.opposite(None) == bar\n",
    "assert foo.opposite(bar) == None"
   ]
  },
  {
   "cell_type": "markdown",
   "metadata": {},
   "source": [
    "*This class will represent individual units in the KD-Tree. Since it is still handling units from the dataset, I created it as an instance of the Unit class so that it can inherit all of Unit's functionality. In a KD-Tree, each node represents a partition of the feature space in addition to a piece of data. So, it extends this functionality with .decision() and .dist_to_boundary() which are for reasoning about this partition. It also has attributes for representing part-child relationships in the tree.*"
   ]
  },
  {
   "cell_type": "code",
   "execution_count": 10,
   "metadata": {},
   "outputs": [],
   "source": [
    "class Tree:\n",
    "    \"\"\"Class to represent the KD-Tree\n",
    "    \n",
    "    Attributes:\n",
    "        item_len: the length of node.values for all nodes in the treee\n",
    "        root: The Node at the root of the tree\n",
    "    \"\"\"\n",
    "    \n",
    "    def __init__(self, ids: list = None, values: list = None, nodes: list = None):\n",
    "        # arg parsing\n",
    "        if not sum(((ids is not None and values is not None), nodes is not None)) == 1:\n",
    "            raise ValueError(\"Please specify either ids and values, or nodes\")\n",
    "        if values:\n",
    "            self.item_len = len(values[0])\n",
    "            nodes = [Node(id, value) for id, value in zip(ids, values)]\n",
    "        elif nodes:\n",
    "            self.item_len = len(nodes[0].values)\n",
    "        \n",
    "        # set up the structure of the tree\n",
    "        self.root = self.build(nodes, 0)\n",
    "        self.set_parents()\n",
    "    \n",
    "    def get_tree(self) -> None:\n",
    "        \"\"\"Prints visual representation of the tree\"\"\"\n",
    "        self.root.get_tree()\n",
    "    \n",
    "    def get_next_axis(self, axis: int, nodes: list) -> int:\n",
    "        \"\"\"Takes the parent's axis and the set of nodes to partition and determines which axis to split on\"\"\"\n",
    "        # this algorithm iterates through axes at each level\n",
    "        # an alternative would be to pick the one with maximum variance to get the best split\n",
    "        # calculating variance along each axis is expensive though\n",
    "        return (axis + 1) % self.item_len\n",
    "    \n",
    "    def axis_median(self, nodes, axis):\n",
    "        \"\"\"Finds the median node in a list along the given axis of comparison\"\"\"\n",
    "        if len(nodes) == 0:\n",
    "            return\n",
    "        \n",
    "        # Sorts the nodes and returns the one in the middle, which is O(nlogn)\n",
    "        # The fastest median algorithms are O(n), but I thought the 2-5x speedup here\n",
    "        # was unlikely to be worth the cost in maintainability. I would upgrade if \n",
    "        # this became a bottleneck.\n",
    "        nodes.sort(key=lambda n: n.values[axis])\n",
    "        return nodes[len(nodes)//2]\n",
    "    \n",
    "    def build(self, nodes, axis):\n",
    "        \"\"\"Recursively builds the tree\"\"\"\n",
    "        # find pivot\n",
    "        pivot = self.axis_median(nodes, axis)\n",
    "        pivot.axis = axis\n",
    "\n",
    "        # partition nodes using Node's .decision() method\n",
    "        larger = []\n",
    "        smaller = []\n",
    "        for node in nodes:\n",
    "            if node.id == pivot.id:\n",
    "                pass\n",
    "            elif pivot.decision(node):\n",
    "                larger.append(node)\n",
    "            else:\n",
    "                smaller.append(node)\n",
    "\n",
    "        # recursive calls to construct subtrees\n",
    "        if larger:\n",
    "            # left = larger\n",
    "            pivot.left = self.build(larger, self.get_next_axis(axis, larger))\n",
    "        if smaller:\n",
    "            pivot.right = self.build(smaller, self.get_next_axis(axis, smaller))\n",
    "\n",
    "        return pivot\n",
    "    \n",
    "    def set_parents(self):\n",
    "        \"\"\"Sets up parent attributes on each node in a built tree using depth first traversal\"\"\"\n",
    "        stack = [self.root] # stack for depth first traversal\n",
    "        while stack:\n",
    "            node = stack.pop()\n",
    "            \n",
    "            # if children exist, tell them their parents and push them to the stack\n",
    "            if node.left:\n",
    "                node.left.parent = node\n",
    "                stack.append(node.left)\n",
    "            if node.right:\n",
    "                node.right.parent = node\n",
    "                stack.append(node.right)\n",
    "\n",
    "# tests\n",
    "ids = [0, 1, 2]\n",
    "values = [[i] for i in ids]\n",
    "foo = Tree(ids=ids, values=values)\n",
    "assert foo.root.id == 1\n",
    "assert foo.root.left.id == 2\n",
    "assert foo.root.right.parent == foo.root"
   ]
  },
  {
   "cell_type": "markdown",
   "metadata": {},
   "source": [
    "*The Tree class represents the complete KD-Tree and presents a user friendly interface to the more complicated underlying methods. The most important method here is .build() which constructs the tree. This relies on the axis manipulation methods .get_next_axis() and and .axis_median().*"
   ]
  },
  {
   "cell_type": "markdown",
   "metadata": {},
   "source": [
    "##### .build()\n",
    "On a technical level, the tree constructs levels one at a time using the .build() method. Each level has an axis of comparison, which is the feature variable that is being compared at that level; it rotates through feature variables in its choice of axis of comparison at each level.\n",
    "\n",
    "At each level, it finds a pivot---the datapoint with the median (or a related) value along the axis of comparison and sets this as the root of the subtree. Then, it divides data points into those larger and smaller than the pivot along the axis of comparison. Those larger are grouped into *larger*, those smaller into *smaller*. .build() is called recursively to construct left and right subtrees out of *larger* and *smaller* respectively.\n",
    "\n",
    "This is a recursive function. So, it has to have a base case. Here, the base case is when either *larger* or *smaller* is empty after the partition. Then, the function does not construct a subtree but leaves the parent Nodes child pointer null."
   ]
  },
  {
   "cell_type": "markdown",
   "metadata": {},
   "source": [
    "#### search()\n",
    "\n",
    "The real action of the KD-Tree is in the search. This is quite a complicated process, so I have broken it up into several functions that I will explain individually. The general idea is that search starts with a new query and navigates from the top to the bottom using the .decision() methods on each node. This will put it next to a leaf node, which, although not necessarily the closest, is a fair approximation.\n",
    "\n",
    "Then, it navigates back up the tree, examining larger and larger subtrees. It uses clever pruning logic to avoid looking at subtrees which could not possibly find the answer, making it significantly faster in practice than brute force search."
   ]
  },
  {
   "cell_type": "code",
   "execution_count": 11,
   "metadata": {},
   "outputs": [],
   "source": [
    "class search_result:\n",
    "    \"\"\"Nice class to package search results\"\"\"\n",
    "    def __init__(self, node, distance):\n",
    "        if ENFORCE_TYPES:\n",
    "            distance = float(distance)\n",
    "            if not (isinstance(node, Node)):\n",
    "                raise TypeError(\"node must be a Node, distance a float\")\n",
    "            \n",
    "        self.node = node\n",
    "        self.distance = distance\n",
    "    \n",
    "    def __repr__(self):\n",
    "        return f\"search_result(node={self.node}, distance={self.distance})\"\n",
    "\n",
    "# tests\n",
    "ENFORCE_TYPES, old = False, ENFORCE_TYPES # suspend type checking\n",
    "assert search_result(\"foo\", 1).distance == 1\n",
    "assert search_result(\"foo\", 1).node == \"foo\"\n",
    "ENFORCE_TYPES = old # restore"
   ]
  },
  {
   "cell_type": "markdown",
   "metadata": {},
   "source": [
    "*This is a lightweight wrapper class to store the results of the search functions below. Again, I used this as opposed to a tuple or other way of storing the data because I thought that access the data via attribute notation would be less error prone.*"
   ]
  },
  {
   "cell_type": "code",
   "execution_count": 12,
   "metadata": {},
   "outputs": [],
   "source": [
    "def search_down(root: Node, query: Node, best: search_result = None) -> search_result:\n",
    "    \"\"\"Navigates to the bottom of the tree\"\"\"\n",
    "    \n",
    "    # debugging stuff\n",
    "    if ENFORCE_TYPES and not (isinstance(node, Node) and isinstance(query, Node)):\n",
    "        raise TypeError(\"node, query must be instances of Node\")\n",
    "        \n",
    "    node = root\n",
    "    while True:\n",
    "        # figure out which subtree would fit better\n",
    "        pref_search = node.left if node.decision(query) else node.right\n",
    "        \n",
    "        # take that node if possible, else the other sibling if it exists\n",
    "        if pref_search:\n",
    "            node = pref_search\n",
    "        elif node.opposite(pref_search):\n",
    "            node = node.opposite(pref_search)\n",
    "        \n",
    "        # if neither exists, begin working back up the tree\n",
    "        else:\n",
    "            return search_up(node=node, query=query, root=root, best_match=best)\n",
    "\n",
    "# kind of hard to test this on it's own"
   ]
  },
  {
   "cell_type": "markdown",
   "metadata": {},
   "source": [
    "*This function starts at the top of a subtree and navigates to the bottom using the .decision() method on node. This means that the query is moved to the same position that it would be if it were a control being added to the tree. The node in the position it would have occupied becomes our first guess as to the best match.*"
   ]
  },
  {
   "cell_type": "code",
   "execution_count": 13,
   "metadata": {},
   "outputs": [],
   "source": [
    "def search_up(node: Node, query: Node, root: Node, best_match: search_result = None) -> search_result:\n",
    "    \"\"\"Starting at the bottom of the subtree, work upwards in search of the best match\"\"\"\n",
    "    \n",
    "    # debug stuff\n",
    "    if ENFORCE_TYPES and not (isinstance(node, Node) and isinstance(query, Node) and isinstance(best, search_result)):\n",
    "        raise TypeError(\"query, node must be instances of Node. best must be search_result.\")\n",
    "    \n",
    "    # get a baseline best match\n",
    "    node_result = search_result(node=node, distance=distance(node, query))\n",
    "    if best_match is None or node_result.distance < best_match.distance:\n",
    "        best_match = node_result\n",
    "        \n",
    "    while True:\n",
    "        \n",
    "        # are we done?\n",
    "        if node.id == root.id or not node.parent:\n",
    "            return best_match\n",
    "        \n",
    "        # is the parent better?\n",
    "        parent_dist = distance(query, node.parent)\n",
    "        if parent_dist < best_match.distance:\n",
    "            best_match.node = node.parent\n",
    "            best_match.distance = parent_dist\n",
    "            \n",
    "        # check if we have to search the sibling tree\n",
    "        same_side_boundary = node.parent.decision(best_match.node) == node.parent.decision(query)\n",
    "        closer_than_boundary = abs(node.parent.dist_to_boundary(best_match.node)) > best_match.distance\n",
    "        sibling_tree_exists = node.parent.opposite(node) is not None\n",
    "\n",
    "        if not (same_side_boundary and closer_than_boundary) and sibling_tree_exists:\n",
    "\n",
    "            # search the sibling tree\n",
    "            subtree_search = search_down(root=node.parent.opposite(node), query=query, best=best_match)\n",
    "            if subtree_search.distance < best_match.distance:\n",
    "                best_match = subtree_search\n",
    "        \n",
    "        node = node.parent"
   ]
  },
  {
   "cell_type": "markdown",
   "metadata": {},
   "source": [
    "*This function starts at the bottom of a tree and works up it. At each level, it compares its current best match to its parent, updating the best match if it is better. Then, it tries to prove that its sibling tree cannot contain a better match. If it cannot do this, it searches this too, updating the best match if it finds a new best there.*"
   ]
  },
  {
   "cell_type": "markdown",
   "metadata": {},
   "source": [
    "To find the best match given a leaf node which is a good guess, the search moves up level by level in a form of pruned depth-first-search. Starting with this guess, it moves up the tree, searching for a better match. At each level, it looks at two places which could have new best matches: the parent of the current node and the sibling subtree of the current node. For example, if C is the current node in the diagram below, it will search A and the subtree based at B---the nodes B, D and E.\n",
    "\n",
    "```\n",
    "Diagram 1. The subtree based as A\n",
    "\n",
    "       A\n",
    "      / \\\n",
    "     B   C\n",
    "    / \\\n",
    "   D   E\n",
    "\n",
    "```\n",
    "\n",
    "Comparing to A is cheap and fast, so it always does this. But, comparing to the entire subtree based at B is potentially quite expensive. So, it will attempt to show that that this isn't necessary. Recall that in the KD-Tree, the branch at each represents a partition of the feature space. The idea here is to think of this partition as an actual plane dividing the feature space. See diagram 2 for an illustration. The point marked x is the root of the subtree. Nodes to the right of the partition go into the right subtree, while the nodes to the left go into the left subtree.\n",
    "\n",
    "```\n",
    "Diagram 2. Units partitioned by X\n",
    "\n",
    "  l       |       r  r\n",
    "   l      |  \n",
    " l l  l   |    a\n",
    "  l       x  r   b\n",
    "          |\n",
    "```\n",
    "\n",
    "Now note the points labeled a and b. Pretend that a is a query and b is the current best match. Think about what we know. Since a is closer to b than it is to the partition, we know that none of the points on the other side of the partition can be closer than b. So, we do not need to search them.\n",
    "\n",
    "The search function uses the same kind of reasoning. It asks the parent how far the query is from the parent's partition. Then, if it is farther from this than it is from the current best match, then the search algorithm will \"prune\" -- i.e., ignore -- the subtree on the other side of the partition.\n",
    "\n",
    "If it does have to search the subtree, it will use search down to do so. Making these two functions kind of recursive together. This call will then lead to a subordinate search_up() call which will find the best match in the subtree. Note that all search_up calls need access to the current best match if they are going to do the most efficient possible bounding. So, the current best match is passed as a parameter to search_down() and handed off to the subordinate search_up() call.\n",
    "\n",
    "search_up() will continue in this way until it reaches the root node. This will be the root of the tree in the main search, and it will be the top of the subtree in subordinate searches.\n"
   ]
  },
  {
   "cell_type": "code",
   "execution_count": 14,
   "metadata": {},
   "outputs": [],
   "source": [
    "def nearest_neighbor(tree: Tree, query: list) -> search_result:\n",
    "    \"\"\"Finds the unit in tree which is closest to query by Euclidean distance\"\"\"\n",
    "    node = query if isinstance(query, Node) else Node(id=None, values=query)\n",
    "    return search_down(tree.root, node)\n",
    "\n",
    "# tests\n",
    "ids = [0, 1, 2]\n",
    "values = [[i] for i in ids]\n",
    "foo = Tree(ids, values)\n",
    "\n",
    "assert nearest_neighbor(foo, [1]).node.id == 1\n",
    "assert nearest_neighbor(foo, [1.1]).node.id == 1\n",
    "assert nearest_neighbor(foo, [0]).node.id == 0\n",
    "assert nearest_neighbor(foo, [-1]).node.id == 0"
   ]
  },
  {
   "cell_type": "markdown",
   "metadata": {},
   "source": [
    "*User friendly interface function to the more complicated search_down() and search_up() functions.*"
   ]
  },
  {
   "cell_type": "markdown",
   "metadata": {},
   "source": [
    "### Efficient Matching\n",
    "\n",
    "All of these pieces come together in the final algorithm, which is an efficient implementation of the matching algorithm. This algorithm works by pushing all the controls from a dataset into a KD-Tree and then using nearest_neighbor() to find the best match for each treatment unit."
   ]
  },
  {
   "cell_type": "code",
   "execution_count": 15,
   "metadata": {},
   "outputs": [],
   "source": [
    "def kd_matching(treatment, controls):\n",
    "    matches = {}\n",
    "    \n",
    "    # set up tree and match\n",
    "    tree = Tree(nodes=controls)\n",
    "    for treat in treatment:\n",
    "        matches[treat.id] = nearest_neighbor(tree, treat).node.id\n",
    "        \n",
    "    return matches\n",
    "\n",
    "controls = [Node(id=i, values=[i]) for i in [1, 2, 3]]\n",
    "treats = [Node(id=i, values=[j]) for i, j in zip([4, 5, 6], [-1, 2.1, 3])]\n",
    "assert kd_matching(treats, controls) == {4: 1, 5: 2, 6: 3}"
   ]
  },
  {
   "cell_type": "markdown",
   "metadata": {},
   "source": [
    "### Efficientcy of kd-matching\n",
    "\n",
    "This was a lot of work for a problem that could be solved in a couple lines in the brute-force matching solution. How much did it help? Well, kd-matching constists of two main calls: the call to build the kd-tree from the controls and the nearest_neighbor() calls for each treatment.\n",
    "\n",
    "**Building the tree**  \n",
    "There are $\\log(n)$ levels of the tree, and constructing each level takes three steps: finding a pivot, partitioning the nodes, and recursive calls to build the next levels. Finding the pivot is $O(m \\log m)$ in the number of nodes in the subtree, since it involves finding the median of the subtree along one of the axes, which in turn means sorting the list of nodes in the subtree in my implementation. Partitioning the nodes is $O(md)$ in the number of nodes in the subtree since the decision to put them in the left or right subtree is a distance calculation, hence $O(d)$ in the number of dimensions. Making the recursive calls is $O(1)$, and although it takes longer to execute them, we will count this against the next levels.\n",
    "\n",
    "Let's upper bound $m$, the number of nodes in each subtree, with $n$, the number of nodes in the tree. Then, the worst case time to build the tree will grow with,\n",
    "\n",
    "$$\n",
    "O (\\log(n)(n \\log n + nd)) =\n",
    "O (n \\log(n) + nd \\log(n)) =\n",
    "O(nd\\log(n))\n",
    "$$\n",
    "\n",
    "**Matching the treatment units**  \n",
    "Matching each treatment unit involes iterating over the treatment units $O(n)$, and for each finding the nearest neighbor. For all of its clever bounding, nearest neighbor search is still $O(dn)$. Even though in the majority of cases, it will be able to prune a significant number of subtrees it will not be able to do this under some circumstances, for example, under high dimensionality. When it can't prune effectively, each treatment must be compared ($O(d)$) to each control ($O(n)$). So, matching the treatment units will be worst case $O(dn^2)$ -- i.e., no asymptotic worst case improvement over brute force search.\n",
    "\n",
    "This means that the cost of matching the treatment units will blot out any costs related to constructing the tree in the asymptotic worst case. So, the asymptotic worst case for the whole kd_matching() function will be:\n",
    "\n",
    "$$O(dn^2)$$"
   ]
  },
  {
   "cell_type": "markdown",
   "metadata": {},
   "source": [
    "### Computational tradeoffs: brute-force and kd matching\n",
    "\n",
    "The first, critically important, thing to note when comparing these two approaches to matching is that both have the same worst case time complexity -- $O(dn^2)$. So, even if kd-matching may have some nice optimizations that will help under most circumstances, it will still perform quite poorly under some circumstances.\n",
    "\n",
    "Let's move away from the asymtotic forms though and see how these algorithms perform in practice."
   ]
  },
  {
   "cell_type": "code",
   "execution_count": 16,
   "metadata": {},
   "outputs": [],
   "source": [
    "import time\n",
    "import matplotlib.pyplot as plt\n",
    "\n",
    "def time_for_dataset(dataset, n0, ni, sims=5):\n",
    "    bf_times = {}\n",
    "    kd_times = {}\n",
    "\n",
    "    for n in range(n0, ni):\n",
    "        \n",
    "        # generate data\n",
    "        tr, co = dataset(n)\n",
    "        \n",
    "        # time each function\n",
    "        t = time.time()\n",
    "        for _ in range(sims):\n",
    "            matching_brute_force(tr, co)\n",
    "        bf_times[n] = (time.time() - t)/sims\n",
    "\n",
    "        t = time.time()\n",
    "        for _ in range(sims):\n",
    "            kd_matching(tr, co)\n",
    "        kd_times[n] = (time.time() - t)/sims\n",
    "    \n",
    "    # create graphics\n",
    "    plt.plot(list(bf_times.keys()), list(bf_times.values()), label=\"Brute Force\")\n",
    "    plt.plot(list(kd_times.keys()), list(kd_times.values()), label=\"KD Matching\")\n",
    "    \n",
    "    plt.xlabel(\"Number of Treatment Units\")\n",
    "    plt.ylabel(\"Avg. Time (s)\")\n",
    "    plt.legend()"
   ]
  },
  {
   "cell_type": "markdown",
   "metadata": {},
   "source": [
    "*This function takes a data generating function as input and generates a plot of how well each function does on the data generated by this function.*"
   ]
  },
  {
   "cell_type": "code",
   "execution_count": 17,
   "metadata": {},
   "outputs": [
    {
     "data": {
      "image/png": "[encoded data removed]",
      "text/plain": [
       "<Figure size 432x288 with 1 Axes>"
      ]
     },
     "metadata": {
      "needs_background": "light"
     },
     "output_type": "display_data"
    }
   ],
   "source": [
    "# try for univariate data\n",
    "def univariate(n):\n",
    "    treatment = [Node(id=i, values=[i]) for i in range(n)]\n",
    "    control = [Node(id=i + n, values=[i]) for i in range(n)]\n",
    "    return treatment, control\n",
    "\n",
    "plt.title(\"Relative Compute Time - Univariate Data\")\n",
    "time_for_dataset(univariate, 5, 100)"
   ]
  },
  {
   "cell_type": "markdown",
   "metadata": {},
   "source": [
    "*This plot shows how matching time grows as a function of input size for each matching function. We can see that for univariate linear data, although kd_matching() plausibly has the same asymptotic complexity, it has much better constant factors. It appears linear here.*"
   ]
  },
  {
   "cell_type": "code",
   "execution_count": 18,
   "metadata": {},
   "outputs": [
    {
     "data": {
      "image/png": "[encoded data removed]",
      "text/plain": [
       "<Figure size 432x288 with 1 Axes>"
      ]
     },
     "metadata": {
      "needs_background": "light"
     },
     "output_type": "display_data"
    }
   ],
   "source": [
    "# try for nonlinear data\n",
    "def nonlinear(n):\n",
    "    treatment = [Node(id=i, values=[2**i]) for i in range(n)]\n",
    "    control = [Node(id=i + n, values=[2**i]) for i in range(n)]\n",
    "    return treatment, control\n",
    "\n",
    "plt.title(\"Relative Compute Time - Nonlinear Data\")\n",
    "time_for_dataset(nonlinear, 5, 100)"
   ]
  },
  {
   "cell_type": "markdown",
   "metadata": {},
   "source": [
    "*The same appears to be true when the variables themselves are not linearly distributed. This plot also shows growth in compute times but for data which is highly nonuniformly distributed.*"
   ]
  },
  {
   "cell_type": "code",
   "execution_count": 19,
   "metadata": {},
   "outputs": [
    {
     "data": {
      "image/png": "[encoded data removed]",
      "text/plain": [
       "<Figure size 432x288 with 1 Axes>"
      ]
     },
     "metadata": {
      "needs_background": "light"
     },
     "output_type": "display_data"
    }
   ],
   "source": [
    "import random\n",
    "\n",
    "# try for multivariate data\n",
    "def multivariate(n):\n",
    "    treatment = [Node(id=i, values=[random.random() for _ in range(n)]) for i in range(n)]\n",
    "    control = [Node(id=i+n, values=[random.random() for _ in range(n)]) for i in range(n)]\n",
    "    return treatment, control\n",
    "\n",
    "plt.title(\"Relative Compute Time - Multivariate Data\")\n",
    "time_for_dataset(multivariate, 5, 100)"
   ]
  },
  {
   "cell_type": "markdown",
   "metadata": {},
   "source": [
    "*This is another plot showing compute time as a function of input size. In this test, the input of size n consisted of n n-dimensional arrays of random data. The KD-Tree appears to do significantly worse than the brute force algorithm here.*"
   ]
  },
  {
   "cell_type": "code",
   "execution_count": 20,
   "metadata": {},
   "outputs": [
    {
     "data": {
      "image/png": "[encoded data removed]",
      "text/plain": [
       "<Figure size 432x288 with 1 Axes>"
      ]
     },
     "metadata": {
      "needs_background": "light"
     },
     "output_type": "display_data"
    }
   ],
   "source": [
    "# try for sparse data\n",
    "from random import shuffle\n",
    "\n",
    "def sparse_vec(i):\n",
    "    thing = [0] * i + [1]\n",
    "    shuffle(thing)\n",
    "    return thing\n",
    "\n",
    "def sparse(n):\n",
    "    treatment = [Node(id=i, values=sparse_vec(n)) for i in range(n)]\n",
    "    control = [Node(id=i + n, values=sparse_vec(n)) for i in range(n)]\n",
    "    return treatment, control\n",
    "\n",
    "plt.title(\"Relative Compute Time - Sparse Data\")\n",
    "time_for_dataset(sparse, 5, 100)"
   ]
  },
  {
   "cell_type": "markdown",
   "metadata": {},
   "source": [
    "*This also appears to be a challenge for the kd-matcher. This plot shows growth in compute times as a function of input for each function when the input is very sparse. The input of size n consisted of n n+1-dimensional matrices, which were 0's at every location except one 1, which was at a random place in the list. Note that both algorithms take almost twice as much time as they needed in the graph above, even all matches in the dataset are equivalent.*"
   ]
  },
  {
   "cell_type": "markdown",
   "metadata": {},
   "source": [
    "The takeaway from these plots is basically the same as from the analytical analysis. The kd-tree is better for many kinds of data, but it will not perform better in some circumstances. Highly multivariate data appears to be an example of where they fail very dramatically. Also, for very small input sizes, the fixed costs of the tree appear appear to make it slightly slower than brute force."
   ]
  },
  {
   "cell_type": "markdown",
   "metadata": {},
   "source": [
    "#### Other Considerations\n",
    "\n",
    "Of course, time is not the only resource that algorithms consume. I has focused on it here as opposed to looking at memory or maintainability concerns because it seems like the most relevant for this problem.\n",
    "- The kd-tree has memory complexity $O(n)$, while the brute force approach is $O(1)$. In practice though, you would have to store input data for each, and so the real asymptotic memory consumption will be the same.\n",
    "- Both of these solutions are within a couple-hundred lines of code and took a college sophmore ~12 hours to write. So, I don't think they would pose a serious maintainability concern in production.\n"
   ]
  },
  {
   "cell_type": "markdown",
   "metadata": {},
   "source": [
    "#### The Bottom Line"
   ]
  },
  {
   "cell_type": "markdown",
   "metadata": {},
   "source": [
    "- KD-Matching is better for many applications, but it will fail with high dimensional data. There may also be other kinds of data where it is a bad fit. When it performs badly, it is marginally worse than brute force.\n",
    "- Brute force is quite slow for all data, but it's worse case is marginally better than for kd-matching.\n",
    "- My recommendation in a production setting would be to have both algorithms ready. When a new matching problem comes in, I would use Kd-Matching unless the numbers of dimensions is quite large--on the order of the size of the dataset. Then, I would apply brute force matching."
   ]
  },
  {
   "cell_type": "markdown",
   "metadata": {},
   "source": [
    "**#computationalcritique** In this section, I go in depth into the relative merits of each approach. I use analytical and empirical evidence to analyze each approach. I justified my focus on the time complexity of each solution. I come to a strong, clear recommendation on when each should be used."
   ]
  },
  {
   "cell_type": "code",
   "execution_count": null,
   "metadata": {},
   "outputs": [],
   "source": []
  }
 ],
 "metadata": {
  "kernelspec": {
   "display_name": "Python 3",
   "language": "python",
   "name": "python3"
  },
  "language_info": {
   "codemirror_mode": {
    "name": "ipython",
    "version": 3
   },
   "file_extension": ".py",
   "mimetype": "text/x-python",
   "name": "python",
   "nbconvert_exporter": "python",
   "pygments_lexer": "ipython3",
   "version": "3.8.5"
  }
 },
 "nbformat": 4,
 "nbformat_minor": 4
}
